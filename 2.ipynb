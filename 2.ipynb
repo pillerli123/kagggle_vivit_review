{
 "cells": [
  {
   "cell_type": "code",
   "execution_count": 136,
   "metadata": {
    "collapsed": true,
    "ExecuteTime": {
     "start_time": "2023-05-18T21:24:56.077665Z",
     "end_time": "2023-05-18T21:25:24.200589Z"
    }
   },
   "outputs": [],
   "source": [
    "import numpy as np # linear algebra\n",
    "import pandas as pd # data processing, CSV file I/O (e.g. pd.read_csv)\n",
    "import seaborn as sns\n",
    "import matplotlib.pyplot as plt\n",
    "import skvideo.io\n",
    "import os\n",
    "import cv2\n",
    "\n",
    "from sklearn.model_selection import train_test_split\n",
    "from sklearn.metrics import confusion_matrix\n",
    "\n",
    "import io\n",
    "import imageio\n",
    "import ipywidgets\n",
    "import tensorflow as tf\n",
    "from tensorflow import keras\n",
    "from tensorflow.keras import layers\n",
    "from keras import backend as K"
   ]
  },
  {
   "cell_type": "code",
   "execution_count": null,
   "outputs": [],
   "source": [],
   "metadata": {
    "collapsed": false
   }
  },
  {
   "cell_type": "code",
   "execution_count": 132,
   "outputs": [],
   "source": [
    "def frame_crop_center(video,cropf):\n",
    "    f,_,_,_ = video.shape\n",
    "    startf = f//2 - cropf//2\n",
    "    return video[startf:startf+cropf, :, :, :]\n",
    "\n",
    "fights=[]\n",
    "nofights=[]\n",
    "\n",
    "surv_fights=[]\n",
    "surv_no_fights=[]\n",
    "\n",
    "video_dims = []\n",
    "\n",
    "####### Fight data\n",
    "for filename in os.listdir(r'D:\\python\\video_transformer\\fight-detection-surv-dataset\\fight'):\n",
    "    f = os.path.join(r'D:\\python\\video_transformer\\fight-detection-surv-dataset\\fight', filename)\n",
    "    # checking if it is a file\n",
    "    video = skvideo.io.vread(f)\n",
    "    video_dims.append(video.shape)\n",
    "    L=[]\n",
    "\n",
    "    #resize video dimensions\n",
    "    for i in range(video.shape[0]):\n",
    "      frame = cv2.resize(video[i], (128,128), interpolation=cv2.INTER_CUBIC)\n",
    "      L.append(frame)\n",
    "\n",
    "    video = np.asarray(L)\n",
    "\n",
    "    #center crop video to have consistent video frame number\n",
    "    video = frame_crop_center(video, 42)\n",
    "\n",
    "    surv_fights.append(video)\n",
    "\n",
    "####### Fight data\n",
    "for filename in os.listdir(r'D:\\python\\video_transformer\\fight-detection-surv-dataset\\noFight'):\n",
    "    f = os.path.join(r'D:\\python\\video_transformer\\fight-detection-surv-dataset\\noFight', filename)\n",
    "    # checking if it is a file\n",
    "    video = skvideo.io.vread(f)\n",
    "    video_dims.append(video.shape)\n",
    "    L=[]\n",
    "\n",
    "    #resize video dimensions\n",
    "    for i in range(video.shape[0]):\n",
    "      frame = cv2.resize(video[i], (128,128), interpolation=cv2.INTER_CUBIC)\n",
    "      L.append(frame)\n",
    "\n",
    "    video = np.asarray(L)\n",
    "\n",
    "    #center crop video to have consistent video frame number\n",
    "    video = frame_crop_center(video, 42)\n",
    "\n",
    "    surv_no_fights.append(video)\n"
   ],
   "metadata": {
    "collapsed": false,
    "ExecuteTime": {
     "start_time": "2023-05-18T21:22:14.926256Z",
     "end_time": "2023-05-18T21:23:14.084832Z"
    }
   }
  },
  {
   "cell_type": "code",
   "execution_count": 133,
   "outputs": [
    {
     "data": {
      "text/plain": "       frame_length       height        width  channels\ncount    300.000000   300.000000   300.000000     300.0\nmean      57.066667   467.466667   789.006667       3.0\nstd       15.932830   200.530556   383.065386       0.0\nmin       20.000000   216.000000   320.000000       3.0\n25%       50.000000   360.000000   480.000000       3.0\n50%       60.000000   360.000000   640.000000       3.0\n75%       60.000000   720.000000  1280.000000       3.0\nmax      142.000000  1080.000000  1920.000000       3.0",
      "text/html": "<div>\n<style scoped>\n    .dataframe tbody tr th:only-of-type {\n        vertical-align: middle;\n    }\n\n    .dataframe tbody tr th {\n        vertical-align: top;\n    }\n\n    .dataframe thead th {\n        text-align: right;\n    }\n</style>\n<table border=\"1\" class=\"dataframe\">\n  <thead>\n    <tr style=\"text-align: right;\">\n      <th></th>\n      <th>frame_length</th>\n      <th>height</th>\n      <th>width</th>\n      <th>channels</th>\n    </tr>\n  </thead>\n  <tbody>\n    <tr>\n      <th>count</th>\n      <td>300.000000</td>\n      <td>300.000000</td>\n      <td>300.000000</td>\n      <td>300.0</td>\n    </tr>\n    <tr>\n      <th>mean</th>\n      <td>57.066667</td>\n      <td>467.466667</td>\n      <td>789.006667</td>\n      <td>3.0</td>\n    </tr>\n    <tr>\n      <th>std</th>\n      <td>15.932830</td>\n      <td>200.530556</td>\n      <td>383.065386</td>\n      <td>0.0</td>\n    </tr>\n    <tr>\n      <th>min</th>\n      <td>20.000000</td>\n      <td>216.000000</td>\n      <td>320.000000</td>\n      <td>3.0</td>\n    </tr>\n    <tr>\n      <th>25%</th>\n      <td>50.000000</td>\n      <td>360.000000</td>\n      <td>480.000000</td>\n      <td>3.0</td>\n    </tr>\n    <tr>\n      <th>50%</th>\n      <td>60.000000</td>\n      <td>360.000000</td>\n      <td>640.000000</td>\n      <td>3.0</td>\n    </tr>\n    <tr>\n      <th>75%</th>\n      <td>60.000000</td>\n      <td>720.000000</td>\n      <td>1280.000000</td>\n      <td>3.0</td>\n    </tr>\n    <tr>\n      <th>max</th>\n      <td>142.000000</td>\n      <td>1080.000000</td>\n      <td>1920.000000</td>\n      <td>3.0</td>\n    </tr>\n  </tbody>\n</table>\n</div>"
     },
     "execution_count": 133,
     "metadata": {},
     "output_type": "execute_result"
    }
   ],
   "source": [
    "data= pd.DataFrame(video_dims, columns=['frame_length', 'height', 'width', 'channels'])\n",
    "data.describe()"
   ],
   "metadata": {
    "collapsed": false,
    "ExecuteTime": {
     "start_time": "2023-05-18T21:23:29.573741Z",
     "end_time": "2023-05-18T21:23:29.607634Z"
    }
   }
  },
  {
   "cell_type": "code",
   "execution_count": 134,
   "outputs": [],
   "source": [
    "surv_fights = [video for video in surv_fights if video.shape[0] == 42]\n",
    "surv_no_fights = [video for video in surv_no_fights if video.shape[0] == 42]\n",
    "videos = surv_fights+surv_no_fights\n",
    "videos = np.asarray(videos)\n",
    "\n",
    "labels = np.concatenate([np.ones(len(surv_fights)), np.zeros(len(surv_no_fights)) ])\n"
   ],
   "metadata": {
    "collapsed": false,
    "ExecuteTime": {
     "start_time": "2023-05-18T21:23:43.679532Z",
     "end_time": "2023-05-18T21:23:43.831067Z"
    }
   }
  },
  {
   "cell_type": "code",
   "execution_count": 135,
   "outputs": [
    {
     "name": "stdout",
     "output_type": "stream",
     "text": [
      "(260, 42, 128, 128, 3)\n"
     ]
    }
   ],
   "source": [
    "print(videos.shape)"
   ],
   "metadata": {
    "collapsed": false,
    "ExecuteTime": {
     "start_time": "2023-05-18T21:23:45.945711Z",
     "end_time": "2023-05-18T21:23:45.956680Z"
    }
   }
  },
  {
   "cell_type": "code",
   "execution_count": 137,
   "outputs": [],
   "source": [
    "X_train, X_test, y_train, y_test = train_test_split(videos, labels, test_size=0.2, random_state=2334)\n",
    "X_train, X_val, y_train, y_val = train_test_split(X_train, y_train, test_size=0.1, random_state=124567)"
   ],
   "metadata": {
    "collapsed": false,
    "ExecuteTime": {
     "start_time": "2023-05-18T21:25:33.681704Z",
     "end_time": "2023-05-18T21:25:33.986455Z"
    }
   }
  },
  {
   "cell_type": "code",
   "execution_count": 138,
   "outputs": [
    {
     "name": "stdout",
     "output_type": "stream",
     "text": [
      "(187, 42, 128, 128, 3)\n",
      "(21, 42, 128, 128, 3)\n",
      "(52, 42, 128, 128, 3)\n"
     ]
    }
   ],
   "source": [
    "print(X_train.shape)\n",
    "print(X_val.shape)\n",
    "print(X_test.shape)"
   ],
   "metadata": {
    "collapsed": false,
    "ExecuteTime": {
     "start_time": "2023-05-18T21:25:54.198047Z",
     "end_time": "2023-05-18T21:25:54.214999Z"
    }
   }
  },
  {
   "cell_type": "code",
   "execution_count": 153,
   "outputs": [],
   "source": [
    "# Setting seed for reproducibility\n",
    "SEED = 77\n",
    "os.environ[\"TF_CUDNN_DETERMINISTIC\"] = \"1\"\n",
    "tf.random.set_seed(SEED)\n",
    "\n",
    "# DATA\n",
    "DATASET_NAME = \"fight/nofights\"\n",
    "BATCH_SIZE = 4\n",
    "AUTO = tf.data.AUTOTUNE\n",
    "INPUT_SHAPE = (42, 128, 128, 3)\n",
    "NUM_CLASSES = 2\n",
    "\n",
    "# OPTIMIZER\n",
    "LEARNING_RATE = 1e-4\n",
    "WEIGHT_DECAY = 1e-5\n",
    "\n",
    "# TRAINING\n",
    "EPOCHS = 20\n",
    "\n",
    "# TUBELET EMBEDDING\n",
    "PATCH_SIZE = (8, 8, 8)\n",
    "NUM_PATCHES = (INPUT_SHAPE[0] // PATCH_SIZE[0]) ** 2\n",
    "\n",
    "# ViViT ARCHITECTURE\n",
    "LAYER_NORM_EPS = 1e-6\n",
    "PROJECTION_DIM = 64\n",
    "NUM_HEADS = 2\n",
    "NUM_LAYERS = 2"
   ],
   "metadata": {
    "collapsed": false,
    "ExecuteTime": {
     "start_time": "2023-05-18T21:50:05.794931Z",
     "end_time": "2023-05-18T21:50:05.819847Z"
    }
   }
  },
  {
   "cell_type": "markdown",
   "source": [
    "Preprocess and prepare dataloader\n"
   ],
   "metadata": {
    "collapsed": false
   }
  },
  {
   "cell_type": "code",
   "execution_count": 154,
   "outputs": [],
   "source": [
    "@tf.function\n",
    "def preprocess(frames: tf.Tensor, label: tf.Tensor):\n",
    "    \"\"\"Preprocess the frames tensors and parse the labels\"\"\"\n",
    "    # Preprocess images\n",
    "    frames = tf.image.convert_image_dtype(\n",
    "        frames[\n",
    "            ..., tf.newaxis\n",
    "        ],  # The new axis is to help for further processing with Conv3D layers\n",
    "        tf.float32,\n",
    "    )\n",
    "\n",
    "    # Parse label\n",
    "    label = tf.cast(label, tf.float32)\n",
    "    return frames, label\n",
    "\n",
    "\n",
    "def prepare_dataloader(\n",
    "    videos: np.ndarray,\n",
    "    labels: np.ndarray,\n",
    "    loader_type: str = \"train\",\n",
    "    batch_size: int = BATCH_SIZE,\n",
    "):\n",
    "    \"\"\"Utility function to prepare dataloader\"\"\"\n",
    "    dataset = tf.data.Dataset.from_tensor_slices((videos, labels))\n",
    "\n",
    "    if loader_type == \"train\":\n",
    "        dataset = dataset.shuffle(BATCH_SIZE * 2)\n",
    "\n",
    "    dataloader = (\n",
    "        dataset.map(preprocess, num_parallel_calls=tf.data.AUTOTUNE)\n",
    "        .batch(batch_size)\n",
    "        .prefetch(tf.data.AUTOTUNE)\n",
    "    )\n",
    "\n",
    "    return dataloader\n",
    "\n",
    "\n",
    "trainloader = prepare_dataloader(X_train, y_train, \"train\")\n",
    "validloader = prepare_dataloader(X_val, y_val, \"valid\")\n",
    "testloader = prepare_dataloader(X_test, y_test, \"test\")"
   ],
   "metadata": {
    "collapsed": false,
    "ExecuteTime": {
     "start_time": "2023-05-18T21:50:08.494017Z",
     "end_time": "2023-05-18T21:50:08.578040Z"
    }
   }
  },
  {
   "cell_type": "markdown",
   "source": [
    "Define some model classes¶\n"
   ],
   "metadata": {
    "collapsed": false
   }
  },
  {
   "cell_type": "code",
   "execution_count": 155,
   "outputs": [],
   "source": [
    "class TubeletEmbedding(layers.Layer):\n",
    "    def __init__(self, embed_dim, patch_size, **kwargs):\n",
    "        super().__init__(**kwargs)\n",
    "        self.projection = layers.Conv3D(\n",
    "            filters=embed_dim,\n",
    "            kernel_size=patch_size,\n",
    "            strides=patch_size,\n",
    "            padding=\"VALID\",\n",
    "        )\n",
    "        self.flatten = layers.Reshape(target_shape=(-1, embed_dim))\n",
    "\n",
    "    def call(self, videos):\n",
    "        projected_patches = self.projection(videos)\n",
    "        flattened_patches = self.flatten(projected_patches)\n",
    "        return flattened_patches\n",
    "\n",
    "class PositionalEncoder(layers.Layer):\n",
    "    def __init__(self, embed_dim, **kwargs):\n",
    "        super().__init__(**kwargs)\n",
    "        self.embed_dim = embed_dim\n",
    "\n",
    "    def build(self, input_shape):\n",
    "        _, num_tokens, _ = input_shape\n",
    "        self.position_embedding = layers.Embedding(\n",
    "            input_dim=num_tokens, output_dim=self.embed_dim\n",
    "        )\n",
    "        self.positions = tf.range(start=0, limit=num_tokens, delta=1)\n",
    "\n",
    "    def call(self, encoded_tokens):\n",
    "        # Encode the positions and add it to the encoded tokens\n",
    "        encoded_positions = self.position_embedding(self.positions)\n",
    "        encoded_tokens = encoded_tokens + encoded_positions\n",
    "        return encoded_tokens"
   ],
   "metadata": {
    "collapsed": false,
    "ExecuteTime": {
     "start_time": "2023-05-18T21:50:10.325708Z",
     "end_time": "2023-05-18T21:50:10.334677Z"
    }
   }
  },
  {
   "cell_type": "markdown",
   "source": [
    "Create model¶\n"
   ],
   "metadata": {
    "collapsed": false
   }
  },
  {
   "cell_type": "code",
   "execution_count": 156,
   "outputs": [],
   "source": [
    "def create_vivit_classifier(\n",
    "    tubelet_embedder,\n",
    "    positional_encoder,\n",
    "    input_shape=INPUT_SHAPE,\n",
    "    transformer_layers=NUM_LAYERS,\n",
    "    num_heads=NUM_HEADS,\n",
    "    embed_dim=PROJECTION_DIM,\n",
    "    layer_norm_eps=LAYER_NORM_EPS,\n",
    "    num_classes=NUM_CLASSES,\n",
    "):\n",
    "    # Get the input layer\n",
    "    inputs = layers.Input(shape=input_shape)\n",
    "    # Create patches.\n",
    "    patches = tubelet_embedder(inputs)\n",
    "    # Encode patches.\n",
    "    encoded_patches = positional_encoder(patches)\n",
    "\n",
    "    # Create multiple layers of the Transformer block.\n",
    "    for _ in range(transformer_layers):\n",
    "        # Layer normalization and MHSA\n",
    "        x1 = layers.LayerNormalization(epsilon=1e-6)(encoded_patches)\n",
    "        attention_output = layers.MultiHeadAttention(\n",
    "            num_heads=num_heads, key_dim=embed_dim // num_heads, dropout=0.1\n",
    "        )(x1, x1)\n",
    "\n",
    "        # Skip connection\n",
    "        x2 = layers.Add()([attention_output, encoded_patches])\n",
    "\n",
    "        # Layer Normalization and MLP\n",
    "        x3 = layers.LayerNormalization(epsilon=1e-6)(x2)\n",
    "        x3 = keras.Sequential(\n",
    "            [\n",
    "                layers.Dense(units=embed_dim * 4, activation=tf.nn.gelu),\n",
    "                layers.Dense(units=embed_dim, activation=tf.nn.gelu),\n",
    "            ]\n",
    "        )(x3)\n",
    "\n",
    "        # Skip connection\n",
    "        encoded_patches = layers.Add()([x3, x2])\n",
    "\n",
    "    # Layer normalization and Global average pooling.\n",
    "    representation = layers.LayerNormalization(epsilon=layer_norm_eps)(encoded_patches)\n",
    "    representation = layers.GlobalAvgPool1D()(representation)\n",
    "\n",
    "    # Classify outputs.\n",
    "    outputs = layers.Dense(units=num_classes, activation=\"softmax\")(representation)\n",
    "\n",
    "    # Create the Keras model.\n",
    "    model = keras.Model(inputs=inputs, outputs=outputs)\n",
    "    return model"
   ],
   "metadata": {
    "collapsed": false,
    "ExecuteTime": {
     "start_time": "2023-05-18T21:50:12.214285Z",
     "end_time": "2023-05-18T21:50:12.247178Z"
    }
   }
  },
  {
   "cell_type": "markdown",
   "source": [
    "Define metrics, build, train and save ViVit model\n"
   ],
   "metadata": {
    "collapsed": false
   }
  },
  {
   "cell_type": "code",
   "execution_count": 157,
   "outputs": [
    {
     "name": "stdout",
     "output_type": "stream",
     "text": [
      "Epoch 1/20\n",
      "47/47 [==============================] - 20s 379ms/step - loss: 0.8006 - accuracy: 0.4706 - recall_m: 0.9574 - precision_m: 0.5426 - f1_m: 0.6721 - val_loss: 0.7059 - val_accuracy: 0.3810 - val_recall_m: 1.0000 - val_precision_m: 0.5833 - val_f1_m: 0.7095\n",
      "Epoch 2/20\n",
      "47/47 [==============================] - 17s 366ms/step - loss: 0.7182 - accuracy: 0.5027 - recall_m: 0.9787 - precision_m: 0.5461 - f1_m: 0.6746 - val_loss: 0.7339 - val_accuracy: 0.5714 - val_recall_m: 1.0000 - val_precision_m: 0.5833 - val_f1_m: 0.7095\n",
      "Epoch 3/20\n",
      "47/47 [==============================] - 17s 366ms/step - loss: 0.7245 - accuracy: 0.5134 - recall_m: 0.9574 - precision_m: 0.5426 - f1_m: 0.6752 - val_loss: 0.7204 - val_accuracy: 0.4762 - val_recall_m: 1.0000 - val_precision_m: 0.5833 - val_f1_m: 0.7095\n",
      "Epoch 4/20\n",
      "47/47 [==============================] - 17s 364ms/step - loss: 0.7203 - accuracy: 0.4599 - recall_m: 0.9362 - precision_m: 0.5443 - f1_m: 0.6696 - val_loss: 0.7075 - val_accuracy: 0.4762 - val_recall_m: 1.0000 - val_precision_m: 0.5833 - val_f1_m: 0.7095\n",
      "Epoch 5/20\n",
      "47/47 [==============================] - 17s 368ms/step - loss: 0.6990 - accuracy: 0.5134 - recall_m: 0.9574 - precision_m: 0.5443 - f1_m: 0.6672 - val_loss: 0.7074 - val_accuracy: 0.5238 - val_recall_m: 1.0000 - val_precision_m: 0.5833 - val_f1_m: 0.7095\n",
      "Epoch 6/20\n",
      "47/47 [==============================] - 17s 366ms/step - loss: 0.7001 - accuracy: 0.5455 - recall_m: 0.9149 - precision_m: 0.5443 - f1_m: 0.6546 - val_loss: 0.7062 - val_accuracy: 0.5238 - val_recall_m: 1.0000 - val_precision_m: 0.5833 - val_f1_m: 0.7095\n",
      "Epoch 7/20\n",
      "47/47 [==============================] - 17s 367ms/step - loss: 0.6956 - accuracy: 0.5134 - recall_m: 1.0000 - precision_m: 0.5461 - f1_m: 0.6869 - val_loss: 0.7099 - val_accuracy: 0.3810 - val_recall_m: 1.0000 - val_precision_m: 0.5833 - val_f1_m: 0.7095\n",
      "Epoch 8/20\n",
      "47/47 [==============================] - 18s 372ms/step - loss: 0.7143 - accuracy: 0.5401 - recall_m: 0.9362 - precision_m: 0.5443 - f1_m: 0.6585 - val_loss: 0.7098 - val_accuracy: 0.4762 - val_recall_m: 1.0000 - val_precision_m: 0.5833 - val_f1_m: 0.7095\n",
      "Epoch 9/20\n",
      "47/47 [==============================] - 17s 364ms/step - loss: 0.7012 - accuracy: 0.5294 - recall_m: 0.9574 - precision_m: 0.5461 - f1_m: 0.6691 - val_loss: 0.7064 - val_accuracy: 0.4762 - val_recall_m: 1.0000 - val_precision_m: 0.5833 - val_f1_m: 0.7095\n",
      "Epoch 10/20\n",
      "47/47 [==============================] - 17s 364ms/step - loss: 0.6967 - accuracy: 0.5615 - recall_m: 0.9574 - precision_m: 0.5443 - f1_m: 0.6735 - val_loss: 0.7106 - val_accuracy: 0.4762 - val_recall_m: 1.0000 - val_precision_m: 0.5833 - val_f1_m: 0.7095\n",
      "Epoch 11/20\n",
      "47/47 [==============================] - 17s 370ms/step - loss: 0.6885 - accuracy: 0.5615 - recall_m: 0.9149 - precision_m: 0.5443 - f1_m: 0.6643 - val_loss: 0.7060 - val_accuracy: 0.4762 - val_recall_m: 1.0000 - val_precision_m: 0.5833 - val_f1_m: 0.7095\n",
      "Epoch 12/20\n",
      "47/47 [==============================] - 17s 363ms/step - loss: 0.6990 - accuracy: 0.5508 - recall_m: 0.9787 - precision_m: 0.5443 - f1_m: 0.6726 - val_loss: 0.7093 - val_accuracy: 0.4762 - val_recall_m: 1.0000 - val_precision_m: 0.5833 - val_f1_m: 0.7095\n",
      "Epoch 13/20\n",
      "47/47 [==============================] - 17s 366ms/step - loss: 0.6939 - accuracy: 0.5455 - recall_m: 0.9574 - precision_m: 0.5426 - f1_m: 0.6661 - val_loss: 0.7204 - val_accuracy: 0.5238 - val_recall_m: 1.0000 - val_precision_m: 0.5833 - val_f1_m: 0.7095\n",
      "Epoch 14/20\n",
      "47/47 [==============================] - 17s 366ms/step - loss: 0.6847 - accuracy: 0.5668 - recall_m: 0.9787 - precision_m: 0.5443 - f1_m: 0.6805 - val_loss: 0.7101 - val_accuracy: 0.4762 - val_recall_m: 1.0000 - val_precision_m: 0.5833 - val_f1_m: 0.7095\n",
      "Epoch 15/20\n",
      "47/47 [==============================] - 17s 364ms/step - loss: 0.6962 - accuracy: 0.5294 - recall_m: 0.9787 - precision_m: 0.5443 - f1_m: 0.6733 - val_loss: 0.7104 - val_accuracy: 0.4762 - val_recall_m: 1.0000 - val_precision_m: 0.5833 - val_f1_m: 0.7095\n",
      "Epoch 16/20\n",
      "47/47 [==============================] - 17s 365ms/step - loss: 0.6994 - accuracy: 0.5348 - recall_m: 0.9574 - precision_m: 0.5461 - f1_m: 0.6652 - val_loss: 0.7045 - val_accuracy: 0.4762 - val_recall_m: 1.0000 - val_precision_m: 0.5833 - val_f1_m: 0.7095\n",
      "Epoch 17/20\n",
      "47/47 [==============================] - 17s 366ms/step - loss: 0.6871 - accuracy: 0.5348 - recall_m: 0.9362 - precision_m: 0.5461 - f1_m: 0.6677 - val_loss: 0.7048 - val_accuracy: 0.5238 - val_recall_m: 1.0000 - val_precision_m: 0.5833 - val_f1_m: 0.7095\n",
      "Epoch 18/20\n",
      "47/47 [==============================] - 18s 376ms/step - loss: 0.6959 - accuracy: 0.5508 - recall_m: 0.9362 - precision_m: 0.5443 - f1_m: 0.6735 - val_loss: 0.7041 - val_accuracy: 0.5238 - val_recall_m: 1.0000 - val_precision_m: 0.5833 - val_f1_m: 0.7095\n",
      "Epoch 19/20\n",
      "47/47 [==============================] - 17s 370ms/step - loss: 0.6882 - accuracy: 0.5561 - recall_m: 1.0000 - precision_m: 0.5443 - f1_m: 0.6814 - val_loss: 0.7045 - val_accuracy: 0.5238 - val_recall_m: 1.0000 - val_precision_m: 0.5833 - val_f1_m: 0.7095\n",
      "Epoch 20/20\n",
      "47/47 [==============================] - 17s 357ms/step - loss: 0.7084 - accuracy: 0.5241 - recall_m: 0.9787 - precision_m: 0.5443 - f1_m: 0.6739 - val_loss: 0.7046 - val_accuracy: 0.4762 - val_recall_m: 1.0000 - val_precision_m: 0.5833 - val_f1_m: 0.7095\n",
      "13/13 [==============================] - 1s 104ms/step - loss: 0.6982 - accuracy: 0.5577 - recall_m: 1.0000 - precision_m: 0.4808 - f1_m: 0.6227\n",
      "Test accuracy: 55.77%\n",
      "Test recall: 100.0%\n",
      "Test precision: 48.08%\n",
      "Test F1: 62.27%\n"
     ]
    },
    {
     "name": "stderr",
     "output_type": "stream",
     "text": [
      "WARNING:absl:Found untraced functions such as conv3d_2_layer_call_fn, conv3d_2_layer_call_and_return_conditional_losses, _jit_compiled_convolution_op, reshape_2_layer_call_fn, reshape_2_layer_call_and_return_conditional_losses while saving (showing 5 of 31). These functions will not be directly callable after loading.\n"
     ]
    },
    {
     "name": "stdout",
     "output_type": "stream",
     "text": [
      "INFO:tensorflow:Assets written to: vivit_model\\assets\n"
     ]
    },
    {
     "name": "stderr",
     "output_type": "stream",
     "text": [
      "INFO:tensorflow:Assets written to: vivit_model\\assets\n"
     ]
    }
   ],
   "source": [
    "def recall_m(y_true, y_pred):\n",
    "    true_positives = K.sum(K.round(K.clip(y_true * y_pred, 0, 1)))\n",
    "    possible_positives = K.sum(K.round(K.clip(y_true, 0, 1)))\n",
    "    recall = true_positives / (possible_positives + K.epsilon())\n",
    "    return recall\n",
    "\n",
    "def precision_m(y_true, y_pred):\n",
    "    true_positives = K.sum(K.round(K.clip(y_true * y_pred, 0, 1)))\n",
    "    predicted_positives = K.sum(K.round(K.clip(y_pred, 0, 1)))\n",
    "    precision = true_positives / (predicted_positives + K.epsilon())\n",
    "    return precision\n",
    "\n",
    "def f1_m(y_true, y_pred):\n",
    "    precision = precision_m(y_true, y_pred)\n",
    "    recall = recall_m(y_true, y_pred)\n",
    "    return 2*((precision*recall)/(precision+recall+K.epsilon()))\n",
    "\n",
    "def run_experiment():\n",
    "    # Initialize model\n",
    "    model = create_vivit_classifier(\n",
    "        tubelet_embedder=TubeletEmbedding(\n",
    "            embed_dim=PROJECTION_DIM, patch_size=PATCH_SIZE\n",
    "        ),\n",
    "        positional_encoder=PositionalEncoder(embed_dim=PROJECTION_DIM),\n",
    "    )\n",
    "\n",
    "    # Compile the model with the optimizer, loss function\n",
    "    # and the metrics.\n",
    "    optimizer = keras.optimizers.Adam(learning_rate=LEARNING_RATE)\n",
    "    model.compile(\n",
    "        optimizer=optimizer,\n",
    "        loss=\"sparse_categorical_crossentropy\",\n",
    "        metrics=[\n",
    "            keras.metrics.SparseCategoricalAccuracy(name=\"accuracy\"),\n",
    "            recall_m,\n",
    "            precision_m,\n",
    "            f1_m,\n",
    "        ],\n",
    "    )\n",
    "\n",
    "    # Train the model.\n",
    "    _ = model.fit(trainloader, epochs=EPOCHS, validation_data=validloader)\n",
    "\n",
    "    _, accuracy, recall, precision, f1 = model.evaluate(testloader)\n",
    "    print(f\"Test accuracy: {round(accuracy * 100, 2)}%\")\n",
    "    print(f\"Test recall: {round(recall * 100, 2)}%\")\n",
    "    print(f\"Test precision: {round(precision * 100, 2)}%\")\n",
    "    print(f\"Test F1: {round(f1 * 100, 2)}%\")\n",
    "\n",
    "    vivit_scores = [accuracy, recall, precision, f1]\n",
    "    return model, vivit_scores\n",
    "\n",
    "\n",
    "model, vivit_scores = run_experiment()\n",
    "\n",
    "model.save('vivit_model')"
   ],
   "metadata": {
    "collapsed": false,
    "ExecuteTime": {
     "start_time": "2023-05-18T21:50:15.122106Z",
     "end_time": "2023-05-18T21:56:11.720160Z"
    }
   }
  },
  {
   "cell_type": "code",
   "execution_count": 144,
   "outputs": [
    {
     "name": "stdout",
     "output_type": "stream",
     "text": [
      "13/13 [==============================] - 2s 104ms/step\n"
     ]
    },
    {
     "data": {
      "text/plain": "<Figure size 640x480 with 2 Axes>",
      "image/png": "[encoded data removed]"
     },
     "metadata": {},
     "output_type": "display_data"
    }
   ],
   "source": [
    "y_preds = np.argmax(model.predict(testloader), axis=1)\n",
    "\n",
    "#Generate the confusion matrix\n",
    "cf_matrix = confusion_matrix(y_test, y_preds)\n",
    "\n",
    "ax = sns.heatmap(cf_matrix, annot=True, cmap='Blues')\n",
    "\n",
    "ax.set_title('Seaborn Confusion Matrix with labels\\n\\n');\n",
    "ax.set_xlabel('\\nPredicted Values')\n",
    "ax.set_ylabel('Actual Values ');\n",
    "\n",
    "## Ticket labels - List must be in alphabetical order\n",
    "ax.xaxis.set_ticklabels(['False','True'])\n",
    "ax.yaxis.set_ticklabels(['False','True'])\n",
    "\n",
    "## Display the visualization of the Confusion Matrix.\n",
    "plt.show()\n",
    "ax.figure.savefig(\"vivit_cf.png\")"
   ],
   "metadata": {
    "collapsed": false,
    "ExecuteTime": {
     "start_time": "2023-05-18T21:34:29.037923Z",
     "end_time": "2023-05-18T21:34:31.827504Z"
    }
   }
  },
  {
   "cell_type": "code",
   "execution_count": 147,
   "outputs": [
    {
     "name": "stdout",
     "output_type": "stream",
     "text": [
      "1/1 [==============================] - 0s 329ms/step\n",
      "1/1 [==============================] - 0s 28ms/step\n",
      "1/1 [==============================] - 0s 29ms/step\n",
      "1/1 [==============================] - 0s 32ms/step\n",
      "1/1 [==============================] - 0s 30ms/step\n",
      "1/1 [==============================] - 0s 29ms/step\n",
      "1/1 [==============================] - 0s 29ms/step\n",
      "1/1 [==============================] - 0s 30ms/step\n",
      "1/1 [==============================] - 0s 29ms/step\n",
      "1/1 [==============================] - 0s 32ms/step\n",
      "1/1 [==============================] - 0s 29ms/step\n",
      "1/1 [==============================] - 0s 31ms/step\n",
      "1/1 [==============================] - 0s 27ms/step\n",
      "1/1 [==============================] - 0s 27ms/step\n",
      "1/1 [==============================] - 0s 31ms/step\n",
      "1/1 [==============================] - 0s 28ms/step\n",
      "1/1 [==============================] - 0s 29ms/step\n",
      "1/1 [==============================] - 0s 29ms/step\n",
      "1/1 [==============================] - 0s 30ms/step\n",
      "1/1 [==============================] - 0s 31ms/step\n",
      "1/1 [==============================] - 0s 36ms/step\n",
      "1/1 [==============================] - 0s 29ms/step\n",
      "1/1 [==============================] - 0s 29ms/step\n",
      "1/1 [==============================] - 0s 29ms/step\n",
      "1/1 [==============================] - 0s 32ms/step\n"
     ]
    },
    {
     "data": {
      "text/plain": "GridBox(children=(VBox(children=(HTML(value=\"'T: Fight | P: noFight'\"), Box(children=(Image(value=b'GIF89a\\x80…",
      "application/vnd.jupyter.widget-view+json": {
       "version_major": 2,
       "version_minor": 0,
       "model_id": "20f89c1b7e3f46e0919e84f35ca90632"
      }
     },
     "execution_count": 147,
     "metadata": {},
     "output_type": "execute_result"
    }
   ],
   "source": [
    "NUM_SAMPLES_VIZ = 25\n",
    "\n",
    "testsamples, labels_ = next(iter(testloader))\n",
    "testsamples, labels_ = X_test[:NUM_SAMPLES_VIZ], y_test[:NUM_SAMPLES_VIZ]\n",
    "\n",
    "ground_truths = []\n",
    "preds = []\n",
    "videos_ = []\n",
    "\n",
    "for i, (testsample, label) in enumerate(zip(testsamples, labels_)):\n",
    "    # Generate gif\n",
    "    with io.BytesIO() as gif:\n",
    "        imageio.mimsave(gif, (testsample * 255).astype(\"uint8\"), \"GIF\", duration=20)\n",
    "        videos_.append(gif.getvalue())\n",
    "\n",
    "    # Get model prediction\n",
    "    output = model.predict(tf.expand_dims(testsample, axis=0))[0]\n",
    "    pred = np.argmax(output, axis=0)\n",
    "\n",
    "    ground_truths.append(label.astype(\"int\"))\n",
    "    preds.append(pred)\n",
    "\n",
    "\n",
    "def make_box_for_grid(image_widget, fit):\n",
    "    \"\"\"Make a VBox to hold caption/image for demonstrating option_fit values.\n",
    "\n",
    "    Source: https://ipywidgets.readthedocs.io/en/latest/examples/Widget%20Styling.html\n",
    "    \"\"\"\n",
    "    # Make the caption\n",
    "    if fit is not None:\n",
    "        fit_str = \"'{}'\".format(fit)\n",
    "    else:\n",
    "        fit_str = str(fit)\n",
    "\n",
    "    h = ipywidgets.HTML(value=\"\" + str(fit_str) + \"\")\n",
    "\n",
    "    # Make the green box with the image widget inside it\n",
    "    boxb = ipywidgets.widgets.Box()\n",
    "    boxb.children = [image_widget]\n",
    "\n",
    "    # Compose into a vertical box\n",
    "    vb = ipywidgets.widgets.VBox()\n",
    "    vb.layout.align_items = \"center\"\n",
    "    vb.children = [h, boxb]\n",
    "    return vb\n",
    "\n",
    "\n",
    "boxes = []\n",
    "label_dict = {0: 'noFight', 1: 'Fight'}\n",
    "for i in range(NUM_SAMPLES_VIZ):\n",
    "    ib = ipywidgets.widgets.Image(value=videos_[i], width=200, height=200)\n",
    "    true_class = label_dict[ground_truths[i]]\n",
    "    pred_class = label_dict[preds[i]]\n",
    "    caption = f\"T: {true_class} | P: {pred_class}\"\n",
    "\n",
    "    boxes.append(make_box_for_grid(ib, caption))\n",
    "\n",
    "ipywidgets.widgets.GridBox(\n",
    "    boxes, layout=ipywidgets.widgets.Layout(grid_template_columns=\"repeat(5, 200px)\")\n",
    ")\n"
   ],
   "metadata": {
    "collapsed": false,
    "ExecuteTime": {
     "start_time": "2023-05-18T21:36:32.497807Z",
     "end_time": "2023-05-18T21:36:48.524483Z"
    }
   }
  }
 ],
 "metadata": {
  "kernelspec": {
   "display_name": "Python 3",
   "language": "python",
   "name": "python3"
  },
  "language_info": {
   "codemirror_mode": {
    "name": "ipython",
    "version": 2
   },
   "file_extension": ".py",
   "mimetype": "text/x-python",
   "name": "python",
   "nbconvert_exporter": "python",
   "pygments_lexer": "ipython2",
   "version": "2.7.6"
  }
 },
 "nbformat": 4,
 "nbformat_minor": 0
}
